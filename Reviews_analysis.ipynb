{
  "nbformat": 4,
  "nbformat_minor": 0,
  "metadata": {
    "colab": {
      "name": "Reviews analysis.ipynb",
      "provenance": [],
      "collapsed_sections": []
    },
    "kernelspec": {
      "name": "python3",
      "display_name": "Python 3"
    },
    "language_info": {
      "name": "python"
    }
  },
  "cells": [
    {
      "cell_type": "code",
      "metadata": {
        "id": "s6rDjZqB5EZh"
      },
      "source": [
        "from autoscraper import AutoScraper\n",
        "from textblob import TextBlob\n",
        "from wordcloud import WordCloud\n",
        "import matplotlib.pyplot as plt\n",
        "import pandas as pd\n",
        "import re\n",
        "from nltk.stem import WordNetLemmatizer"
      ],
      "execution_count": 17,
      "outputs": []
    },
    {
      "cell_type": "code",
      "metadata": {
        "id": "wodGCrEQ3UF7"
      },
      "source": [
        "pip install autoscraper"
      ],
      "execution_count": null,
      "outputs": []
    },
    {
      "cell_type": "code",
      "metadata": {
        "id": "dHKEBdwE97QC"
      },
      "source": [
        "flipkart_url = \"https://www.flipkart.com/apple-iphone-12-black-128-gb/product-reviews/itmf1f0a58f1ecd7?pid=MOBFWBYZK3HACR72&lid=LSTMOBFWBYZK3HACR72UCPUVA&marketplace=FLIPKART\"\n",
        "\n",
        "wanted_list = [\"Best ever delivery by flipkart, got this phone in less than 24hrs, really impressed by the delivery, this is my first ever ios device, and i'm really impressed by its features, camera quality, awesome stereo speaker, oled display is awesome but have some warmth feeling making display little bit yellow, battery backup is awesome.\"]"
      ],
      "execution_count": 8,
      "outputs": []
    },
    {
      "cell_type": "code",
      "metadata": {
        "id": "tOuvaRH_-j9A"
      },
      "source": [
        "scraper = AutoScraper()"
      ],
      "execution_count": 5,
      "outputs": []
    },
    {
      "cell_type": "code",
      "metadata": {
        "colab": {
          "base_uri": "https://localhost:8080/"
        },
        "id": "FrbSMkGm-rI6",
        "outputId": "02efca9f-f40f-4b12-8f50-c15b10e8bcaf"
      },
      "source": [
        "result = scraper.build(flipkart_url,wanted_list)\n",
        "print(result)"
      ],
      "execution_count": 10,
      "outputs": [
        {
          "output_type": "stream",
          "name": "stdout",
          "text": [
            "['Excellent product worth for every penny, writing this review after using 7 days, earlier was using iPhone 6Plus now on iPhone 12 😍, faster then anything this else.Excellent Picture quality.Just loved it.!!', 'Delightful phone, the phone is just a peice of art, sleek, eye catchy, super fast and got everything u need...best one available', 'iPhone 6S Plus 64GB -> iPhone 12 128GBMy 2nd iPhone, upgraded after 5 years.Gorgeous display, stunning new blue colour, excellent camera, best hardware-software combination, that’s how I would describe iPhone 12 as a package. 😊Even though my previous iPhone had a 5.5” display and this one has 6.1” display, its overall body size is much smaller. Had to get used to it initially 🙂Opening/closing/loading of apps is fast. No issues there. Video playback on this screen looks gorgeous. Took...', 'The best is yet to come, I am really happy with the product was delivered on time by Flipkart, over all liked the colours it’s a dream come to true to finally have an iPhone. Thank you Flipkart', 'Night mode is simply amazing and give you a clear and crisp image even when you are in dark.', 'It’s my first iPhone ever and I bought it with my earned money through part time jobs in college✌️I am a tech freak so you can trust my views -- A14 Bionic is the fastest, most efficient and reliable processor till date- The camera focuses so quickly that you can take DSLR quality photos.- The screen size 6.1 inches is the most comfortable screen size out there and the OLED retina XDR display is so crisp and everything feels real.- The stereo speakers are so clear even on high volume an...', 'Green colour is charming and priceless    No weight this iPhone       Totally mind blowing     Battery backup is not best of best but overall hall day backup normally usage  After update new version battery backup superb hall day easily use it     Camera quality awesome night mode superb     Display and 4K video look like live scene      Continue live internet use 7 or 8 hour battery backup', 'The Product is fantastic with great nay awesome camera.Battery management is good but still could be better.Display is very beautiful and treat to watch videos.Design is good, gives vintage iphone kind of look.', \"Bought First Apple product, Awesome design and look.Happy with the performance but little disappointed with no charger and headphone at this price that's why 4 star given.Anyways enjoying the one of the finest iPhone available in Market..Thanks to flipkart for fast delivery.\", \"Best ever delivery by flipkart, got this phone in less than 24hrs, really impressed by the delivery, this is my first ever ios device, and i'm really impressed by its features, camera quality, awesome stereo speaker, oled display is awesome but have some warmth feeling making display little bit yellow, battery backup is awesome.\"]\n"
          ]
        }
      ]
    },
    {
      "cell_type": "code",
      "metadata": {
        "id": "FFOpVaBI-wCN"
      },
      "source": [
        "iphone_review = pd.DataFrame(result,columns=['reviews'])"
      ],
      "execution_count": 11,
      "outputs": []
    },
    {
      "cell_type": "code",
      "metadata": {
        "colab": {
          "base_uri": "https://localhost:8080/",
          "height": 359
        },
        "id": "sWrKHU1P_dMW",
        "outputId": "b2d208bb-d3f1-48a3-a071-a109f8634f8a"
      },
      "source": [
        "iphone_review"
      ],
      "execution_count": 12,
      "outputs": [
        {
          "output_type": "execute_result",
          "data": {
            "text/html": [
              "<div>\n",
              "<style scoped>\n",
              "    .dataframe tbody tr th:only-of-type {\n",
              "        vertical-align: middle;\n",
              "    }\n",
              "\n",
              "    .dataframe tbody tr th {\n",
              "        vertical-align: top;\n",
              "    }\n",
              "\n",
              "    .dataframe thead th {\n",
              "        text-align: right;\n",
              "    }\n",
              "</style>\n",
              "<table border=\"1\" class=\"dataframe\">\n",
              "  <thead>\n",
              "    <tr style=\"text-align: right;\">\n",
              "      <th></th>\n",
              "      <th>reviews</th>\n",
              "    </tr>\n",
              "  </thead>\n",
              "  <tbody>\n",
              "    <tr>\n",
              "      <th>0</th>\n",
              "      <td>Excellent product worth for every penny, writi...</td>\n",
              "    </tr>\n",
              "    <tr>\n",
              "      <th>1</th>\n",
              "      <td>Delightful phone, the phone is just a peice of...</td>\n",
              "    </tr>\n",
              "    <tr>\n",
              "      <th>2</th>\n",
              "      <td>iPhone 6S Plus 64GB -&gt; iPhone 12 128GBMy 2nd i...</td>\n",
              "    </tr>\n",
              "    <tr>\n",
              "      <th>3</th>\n",
              "      <td>The best is yet to come, I am really happy wit...</td>\n",
              "    </tr>\n",
              "    <tr>\n",
              "      <th>4</th>\n",
              "      <td>Night mode is simply amazing and give you a cl...</td>\n",
              "    </tr>\n",
              "    <tr>\n",
              "      <th>5</th>\n",
              "      <td>It’s my first iPhone ever and I bought it with...</td>\n",
              "    </tr>\n",
              "    <tr>\n",
              "      <th>6</th>\n",
              "      <td>Green colour is charming and priceless    No w...</td>\n",
              "    </tr>\n",
              "    <tr>\n",
              "      <th>7</th>\n",
              "      <td>The Product is fantastic with great nay awesom...</td>\n",
              "    </tr>\n",
              "    <tr>\n",
              "      <th>8</th>\n",
              "      <td>Bought First Apple product, Awesome design and...</td>\n",
              "    </tr>\n",
              "    <tr>\n",
              "      <th>9</th>\n",
              "      <td>Best ever delivery by flipkart, got this phone...</td>\n",
              "    </tr>\n",
              "  </tbody>\n",
              "</table>\n",
              "</div>"
            ],
            "text/plain": [
              "                                             reviews\n",
              "0  Excellent product worth for every penny, writi...\n",
              "1  Delightful phone, the phone is just a peice of...\n",
              "2  iPhone 6S Plus 64GB -> iPhone 12 128GBMy 2nd i...\n",
              "3  The best is yet to come, I am really happy wit...\n",
              "4  Night mode is simply amazing and give you a cl...\n",
              "5  It’s my first iPhone ever and I bought it with...\n",
              "6  Green colour is charming and priceless    No w...\n",
              "7  The Product is fantastic with great nay awesom...\n",
              "8  Bought First Apple product, Awesome design and...\n",
              "9  Best ever delivery by flipkart, got this phone..."
            ]
          },
          "metadata": {},
          "execution_count": 12
        }
      ]
    },
    {
      "cell_type": "code",
      "metadata": {
        "id": "Fc0MaJKv_fAx"
      },
      "source": [
        "#cleaning text\n",
        "def cleaning(text):\n",
        "    text = re.sub('@[A-Za-z0-9]+','',text)\n",
        "    text = text.lower()\n",
        "    return text"
      ],
      "execution_count": 14,
      "outputs": []
    },
    {
      "cell_type": "code",
      "metadata": {
        "id": "s0p81QAf_zH2"
      },
      "source": [
        "iphone_review['reviews'] = iphone_review['reviews'].apply(cleaning)"
      ],
      "execution_count": 15,
      "outputs": []
    },
    {
      "cell_type": "code",
      "metadata": {
        "colab": {
          "base_uri": "https://localhost:8080/",
          "height": 359
        },
        "id": "fHynvy9XACDK",
        "outputId": "bb4b50e6-c309-42d3-a143-d06bd76cc7f6"
      },
      "source": [
        "iphone_review"
      ],
      "execution_count": 16,
      "outputs": [
        {
          "output_type": "execute_result",
          "data": {
            "text/html": [
              "<div>\n",
              "<style scoped>\n",
              "    .dataframe tbody tr th:only-of-type {\n",
              "        vertical-align: middle;\n",
              "    }\n",
              "\n",
              "    .dataframe tbody tr th {\n",
              "        vertical-align: top;\n",
              "    }\n",
              "\n",
              "    .dataframe thead th {\n",
              "        text-align: right;\n",
              "    }\n",
              "</style>\n",
              "<table border=\"1\" class=\"dataframe\">\n",
              "  <thead>\n",
              "    <tr style=\"text-align: right;\">\n",
              "      <th></th>\n",
              "      <th>reviews</th>\n",
              "    </tr>\n",
              "  </thead>\n",
              "  <tbody>\n",
              "    <tr>\n",
              "      <th>0</th>\n",
              "      <td>excellent product worth for every penny, writi...</td>\n",
              "    </tr>\n",
              "    <tr>\n",
              "      <th>1</th>\n",
              "      <td>delightful phone, the phone is just a peice of...</td>\n",
              "    </tr>\n",
              "    <tr>\n",
              "      <th>2</th>\n",
              "      <td>iphone 6s plus 64gb -&gt; iphone 12 128gbmy 2nd i...</td>\n",
              "    </tr>\n",
              "    <tr>\n",
              "      <th>3</th>\n",
              "      <td>the best is yet to come, i am really happy wit...</td>\n",
              "    </tr>\n",
              "    <tr>\n",
              "      <th>4</th>\n",
              "      <td>night mode is simply amazing and give you a cl...</td>\n",
              "    </tr>\n",
              "    <tr>\n",
              "      <th>5</th>\n",
              "      <td>it’s my first iphone ever and i bought it with...</td>\n",
              "    </tr>\n",
              "    <tr>\n",
              "      <th>6</th>\n",
              "      <td>green colour is charming and priceless    no w...</td>\n",
              "    </tr>\n",
              "    <tr>\n",
              "      <th>7</th>\n",
              "      <td>the product is fantastic with great nay awesom...</td>\n",
              "    </tr>\n",
              "    <tr>\n",
              "      <th>8</th>\n",
              "      <td>bought first apple product, awesome design and...</td>\n",
              "    </tr>\n",
              "    <tr>\n",
              "      <th>9</th>\n",
              "      <td>best ever delivery by flipkart, got this phone...</td>\n",
              "    </tr>\n",
              "  </tbody>\n",
              "</table>\n",
              "</div>"
            ],
            "text/plain": [
              "                                             reviews\n",
              "0  excellent product worth for every penny, writi...\n",
              "1  delightful phone, the phone is just a peice of...\n",
              "2  iphone 6s plus 64gb -> iphone 12 128gbmy 2nd i...\n",
              "3  the best is yet to come, i am really happy wit...\n",
              "4  night mode is simply amazing and give you a cl...\n",
              "5  it’s my first iphone ever and i bought it with...\n",
              "6  green colour is charming and priceless    no w...\n",
              "7  the product is fantastic with great nay awesom...\n",
              "8  bought first apple product, awesome design and...\n",
              "9  best ever delivery by flipkart, got this phone..."
            ]
          },
          "metadata": {},
          "execution_count": 16
        }
      ]
    },
    {
      "cell_type": "code",
      "metadata": {
        "id": "E7QAHaWqAC-h"
      },
      "source": [
        "stoptext = pd.read_csv('stop.txt', sep=\" \", header=None)"
      ],
      "execution_count": 19,
      "outputs": []
    },
    {
      "cell_type": "code",
      "metadata": {
        "id": "E7x30J2DArFv"
      },
      "source": [
        "lemma = WordNetLemmatizer()"
      ],
      "execution_count": 20,
      "outputs": []
    },
    {
      "cell_type": "code",
      "metadata": {
        "colab": {
          "base_uri": "https://localhost:8080/"
        },
        "id": "8DgWoq0uBHAx",
        "outputId": "70694b43-eedf-4465-bbea-4a18aa917ee5"
      },
      "source": [
        "import nltk\n",
        "nltk.download('wordnet')"
      ],
      "execution_count": 23,
      "outputs": [
        {
          "output_type": "stream",
          "name": "stdout",
          "text": [
            "[nltk_data] Downloading package wordnet to /root/nltk_data...\n",
            "[nltk_data]   Unzipping corpora/wordnet.zip.\n"
          ]
        },
        {
          "output_type": "execute_result",
          "data": {
            "text/plain": [
              "True"
            ]
          },
          "metadata": {},
          "execution_count": 23
        }
      ]
    },
    {
      "cell_type": "code",
      "metadata": {
        "id": "jcN4qvnlA1Mv"
      },
      "source": [
        "iphone_review['reviews'] = iphone_review['reviews'].apply(lambda x: \" \".join([lemma.lemmatize(word) for word in x.split() if word not in (stoptext)]))"
      ],
      "execution_count": 24,
      "outputs": []
    },
    {
      "cell_type": "code",
      "metadata": {
        "colab": {
          "base_uri": "https://localhost:8080/",
          "height": 359
        },
        "id": "OaCdipWmBBYA",
        "outputId": "93bcedd8-70b0-4fbf-8109-670d5be6955d"
      },
      "source": [
        "iphone_review"
      ],
      "execution_count": 25,
      "outputs": [
        {
          "output_type": "execute_result",
          "data": {
            "text/html": [
              "<div>\n",
              "<style scoped>\n",
              "    .dataframe tbody tr th:only-of-type {\n",
              "        vertical-align: middle;\n",
              "    }\n",
              "\n",
              "    .dataframe tbody tr th {\n",
              "        vertical-align: top;\n",
              "    }\n",
              "\n",
              "    .dataframe thead th {\n",
              "        text-align: right;\n",
              "    }\n",
              "</style>\n",
              "<table border=\"1\" class=\"dataframe\">\n",
              "  <thead>\n",
              "    <tr style=\"text-align: right;\">\n",
              "      <th></th>\n",
              "      <th>reviews</th>\n",
              "    </tr>\n",
              "  </thead>\n",
              "  <tbody>\n",
              "    <tr>\n",
              "      <th>0</th>\n",
              "      <td>excellent product worth for every penny, writi...</td>\n",
              "    </tr>\n",
              "    <tr>\n",
              "      <th>1</th>\n",
              "      <td>delightful phone, the phone is just a peice of...</td>\n",
              "    </tr>\n",
              "    <tr>\n",
              "      <th>2</th>\n",
              "      <td>iphone 6 plus 64gb -&gt; iphone 12 128gbmy 2nd ip...</td>\n",
              "    </tr>\n",
              "    <tr>\n",
              "      <th>3</th>\n",
              "      <td>the best is yet to come, i am really happy wit...</td>\n",
              "    </tr>\n",
              "    <tr>\n",
              "      <th>4</th>\n",
              "      <td>night mode is simply amazing and give you a cl...</td>\n",
              "    </tr>\n",
              "    <tr>\n",
              "      <th>5</th>\n",
              "      <td>it’s my first iphone ever and i bought it with...</td>\n",
              "    </tr>\n",
              "    <tr>\n",
              "      <th>6</th>\n",
              "      <td>green colour is charming and priceless no weig...</td>\n",
              "    </tr>\n",
              "    <tr>\n",
              "      <th>7</th>\n",
              "      <td>the product is fantastic with great nay awesom...</td>\n",
              "    </tr>\n",
              "    <tr>\n",
              "      <th>8</th>\n",
              "      <td>bought first apple product, awesome design and...</td>\n",
              "    </tr>\n",
              "    <tr>\n",
              "      <th>9</th>\n",
              "      <td>best ever delivery by flipkart, got this phone...</td>\n",
              "    </tr>\n",
              "  </tbody>\n",
              "</table>\n",
              "</div>"
            ],
            "text/plain": [
              "                                             reviews\n",
              "0  excellent product worth for every penny, writi...\n",
              "1  delightful phone, the phone is just a peice of...\n",
              "2  iphone 6 plus 64gb -> iphone 12 128gbmy 2nd ip...\n",
              "3  the best is yet to come, i am really happy wit...\n",
              "4  night mode is simply amazing and give you a cl...\n",
              "5  it’s my first iphone ever and i bought it with...\n",
              "6  green colour is charming and priceless no weig...\n",
              "7  the product is fantastic with great nay awesom...\n",
              "8  bought first apple product, awesome design and...\n",
              "9  best ever delivery by flipkart, got this phone..."
            ]
          },
          "metadata": {},
          "execution_count": 25
        }
      ]
    },
    {
      "cell_type": "code",
      "metadata": {
        "id": "nUqAwADYBP5f"
      },
      "source": [
        "def Subjectivity(text):\n",
        "    return TextBlob(text).sentiment.subjectivity\n",
        "def polarity(text):\n",
        "    return TextBlob(text).sentiment.polarity"
      ],
      "execution_count": 26,
      "outputs": []
    },
    {
      "cell_type": "code",
      "metadata": {
        "id": "dD8qEJkOBYFy"
      },
      "source": [
        "iphone_review['subjectivity'] = iphone_review['reviews'].apply(Subjectivity)\n",
        "iphone_review['polarity']=iphone_review['reviews'].apply(polarity)"
      ],
      "execution_count": 27,
      "outputs": []
    },
    {
      "cell_type": "code",
      "metadata": {
        "colab": {
          "base_uri": "https://localhost:8080/",
          "height": 359
        },
        "id": "FBgmBl82Bn6F",
        "outputId": "c35f4b83-7957-4742-831e-7324998135cb"
      },
      "source": [
        "iphone_review"
      ],
      "execution_count": 28,
      "outputs": [
        {
          "output_type": "execute_result",
          "data": {
            "text/html": [
              "<div>\n",
              "<style scoped>\n",
              "    .dataframe tbody tr th:only-of-type {\n",
              "        vertical-align: middle;\n",
              "    }\n",
              "\n",
              "    .dataframe tbody tr th {\n",
              "        vertical-align: top;\n",
              "    }\n",
              "\n",
              "    .dataframe thead th {\n",
              "        text-align: right;\n",
              "    }\n",
              "</style>\n",
              "<table border=\"1\" class=\"dataframe\">\n",
              "  <thead>\n",
              "    <tr style=\"text-align: right;\">\n",
              "      <th></th>\n",
              "      <th>reviews</th>\n",
              "      <th>subjectivity</th>\n",
              "      <th>polarity</th>\n",
              "    </tr>\n",
              "  </thead>\n",
              "  <tbody>\n",
              "    <tr>\n",
              "      <th>0</th>\n",
              "      <td>excellent product worth for every penny, writi...</td>\n",
              "      <td>0.600000</td>\n",
              "      <td>0.575000</td>\n",
              "    </tr>\n",
              "    <tr>\n",
              "      <th>1</th>\n",
              "      <td>delightful phone, the phone is just a peice of...</td>\n",
              "      <td>0.666667</td>\n",
              "      <td>0.483333</td>\n",
              "    </tr>\n",
              "    <tr>\n",
              "      <th>2</th>\n",
              "      <td>iphone 6 plus 64gb -&gt; iphone 12 128gbmy 2nd ip...</td>\n",
              "      <td>0.418434</td>\n",
              "      <td>0.280808</td>\n",
              "    </tr>\n",
              "    <tr>\n",
              "      <th>3</th>\n",
              "      <td>the best is yet to come, i am really happy wit...</td>\n",
              "      <td>0.750000</td>\n",
              "      <td>0.550000</td>\n",
              "    </tr>\n",
              "    <tr>\n",
              "      <th>4</th>\n",
              "      <td>night mode is simply amazing and give you a cl...</td>\n",
              "      <td>0.525000</td>\n",
              "      <td>0.200000</td>\n",
              "    </tr>\n",
              "    <tr>\n",
              "      <th>5</th>\n",
              "      <td>it’s my first iphone ever and i bought it with...</td>\n",
              "      <td>0.474815</td>\n",
              "      <td>0.299259</td>\n",
              "    </tr>\n",
              "    <tr>\n",
              "      <th>6</th>\n",
              "      <td>green colour is charming and priceless no weig...</td>\n",
              "      <td>0.639192</td>\n",
              "      <td>0.399495</td>\n",
              "    </tr>\n",
              "    <tr>\n",
              "      <th>7</th>\n",
              "      <td>the product is fantastic with great nay awesom...</td>\n",
              "      <td>0.821429</td>\n",
              "      <td>0.742857</td>\n",
              "    </tr>\n",
              "    <tr>\n",
              "      <th>8</th>\n",
              "      <td>bought first apple product, awesome design and...</td>\n",
              "      <td>0.597619</td>\n",
              "      <td>0.201786</td>\n",
              "    </tr>\n",
              "    <tr>\n",
              "      <th>9</th>\n",
              "      <td>best ever delivery by flipkart, got this phone...</td>\n",
              "      <td>0.681481</td>\n",
              "      <td>0.673611</td>\n",
              "    </tr>\n",
              "  </tbody>\n",
              "</table>\n",
              "</div>"
            ],
            "text/plain": [
              "                                             reviews  subjectivity  polarity\n",
              "0  excellent product worth for every penny, writi...      0.600000  0.575000\n",
              "1  delightful phone, the phone is just a peice of...      0.666667  0.483333\n",
              "2  iphone 6 plus 64gb -> iphone 12 128gbmy 2nd ip...      0.418434  0.280808\n",
              "3  the best is yet to come, i am really happy wit...      0.750000  0.550000\n",
              "4  night mode is simply amazing and give you a cl...      0.525000  0.200000\n",
              "5  it’s my first iphone ever and i bought it with...      0.474815  0.299259\n",
              "6  green colour is charming and priceless no weig...      0.639192  0.399495\n",
              "7  the product is fantastic with great nay awesom...      0.821429  0.742857\n",
              "8  bought first apple product, awesome design and...      0.597619  0.201786\n",
              "9  best ever delivery by flipkart, got this phone...      0.681481  0.673611"
            ]
          },
          "metadata": {},
          "execution_count": 28
        }
      ]
    },
    {
      "cell_type": "code",
      "metadata": {
        "id": "1xiIGMCQBqFF"
      },
      "source": [
        "def review_type(score):\n",
        "    if score<0:\n",
        "        return 'negative'\n",
        "    elif score==0:\n",
        "        return 'neutral'\n",
        "    else:\n",
        "        return 'positive'"
      ],
      "execution_count": 29,
      "outputs": []
    },
    {
      "cell_type": "code",
      "metadata": {
        "colab": {
          "base_uri": "https://localhost:8080/",
          "height": 359
        },
        "id": "Af0EoMlcBx6V",
        "outputId": "6676deb4-35f4-4e22-957c-4a2ed7542e87"
      },
      "source": [
        "iphone_review['Review_type']=iphone_review['polarity'].apply(review_type)\n",
        "iphone_review"
      ],
      "execution_count": 31,
      "outputs": [
        {
          "output_type": "execute_result",
          "data": {
            "text/html": [
              "<div>\n",
              "<style scoped>\n",
              "    .dataframe tbody tr th:only-of-type {\n",
              "        vertical-align: middle;\n",
              "    }\n",
              "\n",
              "    .dataframe tbody tr th {\n",
              "        vertical-align: top;\n",
              "    }\n",
              "\n",
              "    .dataframe thead th {\n",
              "        text-align: right;\n",
              "    }\n",
              "</style>\n",
              "<table border=\"1\" class=\"dataframe\">\n",
              "  <thead>\n",
              "    <tr style=\"text-align: right;\">\n",
              "      <th></th>\n",
              "      <th>reviews</th>\n",
              "      <th>subjectivity</th>\n",
              "      <th>polarity</th>\n",
              "      <th>Review_type</th>\n",
              "    </tr>\n",
              "  </thead>\n",
              "  <tbody>\n",
              "    <tr>\n",
              "      <th>0</th>\n",
              "      <td>excellent product worth for every penny, writi...</td>\n",
              "      <td>0.600000</td>\n",
              "      <td>0.575000</td>\n",
              "      <td>positive</td>\n",
              "    </tr>\n",
              "    <tr>\n",
              "      <th>1</th>\n",
              "      <td>delightful phone, the phone is just a peice of...</td>\n",
              "      <td>0.666667</td>\n",
              "      <td>0.483333</td>\n",
              "      <td>positive</td>\n",
              "    </tr>\n",
              "    <tr>\n",
              "      <th>2</th>\n",
              "      <td>iphone 6 plus 64gb -&gt; iphone 12 128gbmy 2nd ip...</td>\n",
              "      <td>0.418434</td>\n",
              "      <td>0.280808</td>\n",
              "      <td>positive</td>\n",
              "    </tr>\n",
              "    <tr>\n",
              "      <th>3</th>\n",
              "      <td>the best is yet to come, i am really happy wit...</td>\n",
              "      <td>0.750000</td>\n",
              "      <td>0.550000</td>\n",
              "      <td>positive</td>\n",
              "    </tr>\n",
              "    <tr>\n",
              "      <th>4</th>\n",
              "      <td>night mode is simply amazing and give you a cl...</td>\n",
              "      <td>0.525000</td>\n",
              "      <td>0.200000</td>\n",
              "      <td>positive</td>\n",
              "    </tr>\n",
              "    <tr>\n",
              "      <th>5</th>\n",
              "      <td>it’s my first iphone ever and i bought it with...</td>\n",
              "      <td>0.474815</td>\n",
              "      <td>0.299259</td>\n",
              "      <td>positive</td>\n",
              "    </tr>\n",
              "    <tr>\n",
              "      <th>6</th>\n",
              "      <td>green colour is charming and priceless no weig...</td>\n",
              "      <td>0.639192</td>\n",
              "      <td>0.399495</td>\n",
              "      <td>positive</td>\n",
              "    </tr>\n",
              "    <tr>\n",
              "      <th>7</th>\n",
              "      <td>the product is fantastic with great nay awesom...</td>\n",
              "      <td>0.821429</td>\n",
              "      <td>0.742857</td>\n",
              "      <td>positive</td>\n",
              "    </tr>\n",
              "    <tr>\n",
              "      <th>8</th>\n",
              "      <td>bought first apple product, awesome design and...</td>\n",
              "      <td>0.597619</td>\n",
              "      <td>0.201786</td>\n",
              "      <td>positive</td>\n",
              "    </tr>\n",
              "    <tr>\n",
              "      <th>9</th>\n",
              "      <td>best ever delivery by flipkart, got this phone...</td>\n",
              "      <td>0.681481</td>\n",
              "      <td>0.673611</td>\n",
              "      <td>positive</td>\n",
              "    </tr>\n",
              "  </tbody>\n",
              "</table>\n",
              "</div>"
            ],
            "text/plain": [
              "                                             reviews  ...  Review_type\n",
              "0  excellent product worth for every penny, writi...  ...     positive\n",
              "1  delightful phone, the phone is just a peice of...  ...     positive\n",
              "2  iphone 6 plus 64gb -> iphone 12 128gbmy 2nd ip...  ...     positive\n",
              "3  the best is yet to come, i am really happy wit...  ...     positive\n",
              "4  night mode is simply amazing and give you a cl...  ...     positive\n",
              "5  it’s my first iphone ever and i bought it with...  ...     positive\n",
              "6  green colour is charming and priceless no weig...  ...     positive\n",
              "7  the product is fantastic with great nay awesom...  ...     positive\n",
              "8  bought first apple product, awesome design and...  ...     positive\n",
              "9  best ever delivery by flipkart, got this phone...  ...     positive\n",
              "\n",
              "[10 rows x 4 columns]"
            ]
          },
          "metadata": {},
          "execution_count": 31
        }
      ]
    },
    {
      "cell_type": "code",
      "metadata": {
        "colab": {
          "base_uri": "https://localhost:8080/",
          "height": 282
        },
        "id": "Ggi9KWlxB9Tg",
        "outputId": "35b140a7-221f-438a-90aa-3d64fd58d878"
      },
      "source": [
        "plt.scatter(iphone_review['polarity'],iphone_review['subjectivity'])"
      ],
      "execution_count": 32,
      "outputs": [
        {
          "output_type": "execute_result",
          "data": {
            "text/plain": [
              "<matplotlib.collections.PathCollection at 0x7f1a589c7350>"
            ]
          },
          "metadata": {},
          "execution_count": 32
        },
        {
          "output_type": "display_data",
          "data": {
            "image/png": "[encoded data removed]",
            "text/plain": [
              "<Figure size 432x288 with 1 Axes>"
            ]
          },
          "metadata": {
            "needs_background": "light"
          }
        }
      ]
    },
    {
      "cell_type": "code",
      "metadata": {
        "colab": {
          "base_uri": "https://localhost:8080/",
          "height": 282
        },
        "id": "Ey4oFlSKCeVq",
        "outputId": "79339de3-a7a0-4bb1-a36f-edc5ad0ae3fe"
      },
      "source": [
        "iphone_review[\"polarity\"].plot()"
      ],
      "execution_count": 33,
      "outputs": [
        {
          "output_type": "execute_result",
          "data": {
            "text/plain": [
              "<matplotlib.axes._subplots.AxesSubplot at 0x7f1a57ec14d0>"
            ]
          },
          "metadata": {},
          "execution_count": 33
        },
        {
          "output_type": "display_data",
          "data": {
            "image/png": "[encoded data removed]",
            "text/plain": [
              "<Figure size 432x288 with 1 Axes>"
            ]
          },
          "metadata": {
            "needs_background": "light"
          }
        }
      ]
    },
    {
      "cell_type": "code",
      "metadata": {
        "colab": {
          "base_uri": "https://localhost:8080/",
          "height": 311
        },
        "id": "M15DvM06CkF3",
        "outputId": "b961eaf5-1116-4bee-d828-7df01e7b9367"
      },
      "source": [
        "iphone_review['Review_type'].value_counts().plot(kind='bar')\n",
        "plt.show"
      ],
      "execution_count": 35,
      "outputs": [
        {
          "output_type": "execute_result",
          "data": {
            "text/plain": [
              "<function matplotlib.pyplot.show>"
            ]
          },
          "metadata": {},
          "execution_count": 35
        },
        {
          "output_type": "display_data",
          "data": {
            "image/png": "[encoded data removed]",
            "text/plain": [
              "<Figure size 432x288 with 1 Axes>"
            ]
          },
          "metadata": {
            "needs_background": "light"
          }
        }
      ]
    },
    {
      "cell_type": "code",
      "metadata": {
        "colab": {
          "base_uri": "https://localhost:8080/",
          "height": 236
        },
        "id": "Xns1Q_sMCz5A",
        "outputId": "4e770139-9866-4043-bd2b-910dfe215e12"
      },
      "source": [
        "#Word Cloud\n",
        "words = ' '.join([ txts for txts in iphone_review['reviews']])\n",
        "wordcloud = WordCloud().generate(words)\n",
        "\n",
        "plt.imshow(wordcloud)"
      ],
      "execution_count": 36,
      "outputs": [
        {
          "output_type": "execute_result",
          "data": {
            "text/plain": [
              "<matplotlib.image.AxesImage at 0x7f1a57c83150>"
            ]
          },
          "metadata": {},
          "execution_count": 36
        },
        {
          "output_type": "display_data",
          "data": {
            "image/png": "[encoded data removed]",
            "text/plain": [
              "<Figure size 432x288 with 1 Axes>"
            ]
          },
          "metadata": {
            "needs_background": "light"
          }
        }
      ]
    },
    {
      "cell_type": "code",
      "metadata": {
        "id": "nUnwjiyqDDBN"
      },
      "source": [
        ""
      ],
      "execution_count": null,
      "outputs": []
    }
  ]
}